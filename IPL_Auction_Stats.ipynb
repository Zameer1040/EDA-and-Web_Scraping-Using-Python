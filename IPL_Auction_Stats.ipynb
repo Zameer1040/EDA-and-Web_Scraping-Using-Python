{
 "cells": [
  {
   "cell_type": "code",
   "execution_count": 15,
   "id": "6ad84d1f",
   "metadata": {},
   "outputs": [],
   "source": [
    "from bs4 import BeautifulSoup\n",
    "import requests\n",
    "import pandas as pd"
   ]
  },
  {
   "cell_type": "code",
   "execution_count": 19,
   "id": "e1b77ae1",
   "metadata": {},
   "outputs": [
    {
     "name": "stdout",
     "output_type": "stream",
     "text": [
      "                          TEAM FUNDS REMAINING OVERSEAS PLAYERS  TOTAL PLAYERS\n",
      "0          Chennai Super Kings    ₹2,95,00,000                 8            25\n",
      "1               Delhi Capitals      ₹10,00,000                 7            24\n",
      "2               Gujarat Titans      ₹15,00,000                 8            23\n",
      "3        Kolkata Knight Riders      ₹45,00,000                 8            25\n",
      "4         Lucknow Super Giants              ₹0                 7            21\n",
      "5               Mumbai Indians      ₹10,00,000                 8            25\n",
      "6                 Punjab Kings    ₹3,45,00,000                 7            25\n",
      "7             Rajasthan Royals      ₹95,00,000                 8            24\n",
      "8  Royal Challengers Bangalore    ₹1,55,00,000                 8            22\n",
      "9          Sunrisers Hyderabad      ₹10,00,000                 8            23\n"
     ]
    }
   ],
   "source": [
    "url = \"https://www.iplt20.com/auction/2022\"\n",
    "\n",
    "page = requests.get(url)\n",
    "#print(page)\n",
    "\n",
    "soup = BeautifulSoup(page.text,\"lxml\")\n",
    "#print(soup)\n",
    "\n",
    "table = soup.find(\"table\", class_ = \"ih-td-tab auction-tbl\")\n",
    "title = table.find_all(\"th\")\n",
    "#print(title)\n",
    "\n",
    "header = []\n",
    "for i in title:\n",
    "    name = i.text\n",
    "    header.append(name)\n",
    "\n",
    "    \n",
    "    \n",
    "    \n",
    "df = pd.DataFrame(columns = header)\n",
    "#print(df)\n",
    " \n",
    "    \n",
    "rows = table.find_all(\"tr\")\n",
    "for i in rows[1:]:\n",
    "    first_td = i.find_all(\"td\")[0].find(\"div\", class_ = \"ih-pt-ic\").text.strip()\n",
    "    data = i.find_all(\"td\")[1:]\n",
    "    row = [tr.text for tr in data]\n",
    "    row.insert(0,first_td)\n",
    "    l = len(df)\n",
    "    df.loc[l] = row\n",
    "    \n",
    "    df.to_csv(\"ipl_Auction_Stats.csv\")\n",
    "    \n",
    "print(df)"
   ]
  },
  {
   "cell_type": "code",
   "execution_count": null,
   "id": "d0b3a299",
   "metadata": {},
   "outputs": [],
   "source": []
  },
  {
   "cell_type": "code",
   "execution_count": null,
   "id": "11120b03",
   "metadata": {},
   "outputs": [],
   "source": []
  }
 ],
 "metadata": {
  "kernelspec": {
   "display_name": "Python 3 (ipykernel)",
   "language": "python",
   "name": "python3"
  },
  "language_info": {
   "codemirror_mode": {
    "name": "ipython",
    "version": 3
   },
   "file_extension": ".py",
   "mimetype": "text/x-python",
   "name": "python",
   "nbconvert_exporter": "python",
   "pygments_lexer": "ipython3",
   "version": "3.9.13"
  }
 },
 "nbformat": 4,
 "nbformat_minor": 5
}
